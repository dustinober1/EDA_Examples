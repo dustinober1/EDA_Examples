{
 "cells": [
  {
   "cell_type": "markdown",
   "metadata": {},
   "source": [
    "# Iris Dataset - Exploratory Data Analysis\n",
    "\n",
    "## Overview\n",
    "The Iris dataset is one of the most famous datasets in the machine learning world. It contains measurements of 150 iris flowers from three different species: Setosa, Versicolor, and Virginica. Each flower is described by four features: sepal length, sepal width, petal length, and petal width.\n",
    "\n",
    "## Table of Contents\n",
    "1. [Data Loading and Initial Inspection](#1-data-loading-and-initial-inspection)\n",
    "2. [Data Cleaning](#2-data-cleaning)\n",
    "3. [Exploratory Data Analysis](#3-exploratory-data-analysis)\n",
    "4. [Key Insights](#4-key-insights)\n",
    "5. [Conclusions](#5-conclusions)"
   ]
  },
  {
   "cell_type": "markdown",
   "metadata": {},
   "source": [
    "## 1. Data Loading and Initial Inspection"
   ]
  },
  {
   "cell_type": "code",
   "execution_count": null,
   "metadata": {},
   "outputs": [],
   "source": [
    "# Import required libraries\n",
    "import pandas as pd\n",
    "import numpy as np\n",
    "import matplotlib.pyplot as plt\n",
    "import seaborn as sns\n",
    "import plotly.express as px\n",
    "from sklearn.datasets import load_iris\n",
    "import warnings\n",
    "warnings.filterwarnings('ignore')\n",
    "\n",
    "# Set style for plots\n",
    "plt.style.use('default')\n",
    "sns.set_palette('husl')\n",
    "\n",
    "# Display options\n",
    "pd.set_option('display.max_columns', None)\n",
    "pd.set_option('display.max_rows', 100)"
   ]
  },
  {
   "cell_type": "code",
   "execution_count": null,
   "metadata": {},
   "outputs": [],
   "source": [
    "# Load the Iris dataset\n",
    "iris_data = load_iris()\n",
    "df = pd.DataFrame(iris_data.data, columns=iris_data.feature_names)\n",
    "df['species'] = iris_data.target\n",
    "df['species_name'] = df['species'].map({0: 'setosa', 1: 'versicolor', 2: 'virginica'})\n",
    "\n",
    "print(\"First 5 rows of the dataset:\")\n",
    "df.head()"
   ]
  },
  {
   "cell_type": "code",
   "execution_count": null,
   "metadata": {},
   "outputs": [],
   "source": [
    "# Basic information about the dataset\n",
    "print(f\"Dataset shape: {df.shape}\")\n",
    "print(f\"\\nColumn names and types:\")\n",
    "print(df.dtypes)\n",
    "print(f\"\\nDataset info:\")\n",
    "df.info()"
   ]
  },
  {
   "cell_type": "code",
   "execution_count": null,
   "metadata": {},
   "outputs": [],
   "source": [
    "# Basic statistics\n",
    "print(\"Basic statistics for numerical features:\")\n",
    "df.describe()"
   ]
  },
  {
   "cell_type": "code",
   "execution_count": null,
   "metadata": {},
   "outputs": [],
   "source": [
    "# Species distribution\n",
    "print(\"Species distribution:\")\n",
    "species_counts = df['species_name'].value_counts()\n",
    "print(species_counts)\n",
    "\n",
    "# Visualize species distribution\n",
    "plt.figure(figsize=(8, 6))\n",
    "species_counts.plot(kind='bar', color=['#FF6B6B', '#4ECDC4', '#45B7D1'])\n",
    "plt.title('Distribution of Iris Species')\n",
    "plt.xlabel('Species')\n",
    "plt.ylabel('Count')\n",
    "plt.xticks(rotation=0)\n",
    "plt.show()"
   ]
  },
  {
   "cell_type": "markdown",
   "metadata": {},
   "source": [
    "## 2. Data Cleaning"
   ]
  },
  {
   "cell_type": "code",
   "execution_count": null,
   "metadata": {},
   "outputs": [],
   "source": [
    "# Check for missing values\n",
    "missing_data = df.isnull().sum()\n",
    "print(\"Missing values per column:\")\n",
    "print(missing_data)\n",
    "print(f\"\\nTotal missing values: {missing_data.sum()}\")"
   ]
  },
  {
   "cell_type": "code",
   "execution_count": null,
   "metadata": {},
   "outputs": [],
   "source": [
    "# Check for duplicates\n",
    "duplicates = df.duplicated().sum()\n",
    "print(f\"Number of duplicate rows: {duplicates}\")\n",
    "\n",
    "if duplicates > 0:\n",
    "    print(\"\\nDuplicate rows:\")\n",
    "    print(df[df.duplicated()])"
   ]
  },
  {
   "cell_type": "markdown",
   "metadata": {},
   "source": [
    "## 3. Exploratory Data Analysis"
   ]
  },
  {
   "cell_type": "markdown",
   "metadata": {},
   "source": [
    "### 3.1 Univariate Analysis"
   ]
  },
  {
   "cell_type": "code",
   "execution_count": null,
   "metadata": {},
   "outputs": [],
   "source": [
    "# Separate numerical and categorical columns\n",
    "numerical_cols = ['sepal length (cm)', 'sepal width (cm)', 'petal length (cm)', 'petal width (cm)']\n",
    "print(f\"Numerical columns: {numerical_cols}\")\n",
    "\n",
    "# Statistical summary by species\n",
    "print(\"\\nStatistical summary by species:\")\n",
    "df.groupby('species_name')[numerical_cols].describe()"
   ]
  },
  {
   "cell_type": "code",
   "execution_count": null,
   "metadata": {},
   "outputs": [],
   "source": [
    "# Distribution plots for all numerical features\n",
    "fig, axes = plt.subplots(2, 2, figsize=(15, 10))\n",
    "axes = axes.ravel()\n",
    "\n",
    "for i, col in enumerate(numerical_cols):\n",
    "    # Histogram\n",
    "    axes[i].hist(df[col], bins=20, alpha=0.7, color='skyblue', edgecolor='black')\n",
    "    axes[i].set_title(f'Distribution of {col}')\n",
    "    axes[i].set_xlabel(col)\n",
    "    axes[i].set_ylabel('Frequency')\n",
    "    \n",
    "    # Add vertical line for mean\n",
    "    axes[i].axvline(df[col].mean(), color='red', linestyle='--', label=f'Mean: {df[col].mean():.2f}')\n",
    "    axes[i].legend()\n",
    "\n",
    "plt.tight_layout()\n",
    "plt.show()"
   ]
  },
  {
   "cell_type": "code",
   "execution_count": null,
   "metadata": {},
   "outputs": [],
   "source": [
    "# Box plots to show distribution by species\n",
    "fig, axes = plt.subplots(2, 2, figsize=(15, 10))\n",
    "axes = axes.ravel()\n",
    "\n",
    "for i, col in enumerate(numerical_cols):\n",
    "    sns.boxplot(data=df, x='species_name', y=col, ax=axes[i])\n",
    "    axes[i].set_title(f'{col} by Species')\n",
    "    axes[i].set_xlabel('Species')\n",
    "    axes[i].tick_params(axis='x', rotation=45)\n",
    "\n",
    "plt.tight_layout()\n",
    "plt.show()"
   ]
  },
  {
   "cell_type": "markdown",
   "metadata": {},
   "source": [
    "### 3.2 Bivariate Analysis"
   ]
  },
  {
   "cell_type": "code",
   "execution_count": null,
   "metadata": {},
   "outputs": [],
   "source": [
    "# Correlation matrix\n",
    "plt.figure(figsize=(10, 8))\n",
    "correlation_matrix = df[numerical_cols].corr()\n",
    "sns.heatmap(correlation_matrix, annot=True, cmap='coolwarm', center=0, \n",
    "            square=True, linewidths=0.5)\n",
    "plt.title('Correlation Matrix of Iris Features')\n",
    "plt.show()\n",
    "\n",
    "# Print correlation insights\n",
    "print(\"Strong correlations (|r| > 0.8):\")\n",
    "for i in range(len(correlation_matrix.columns)):\n",
    "    for j in range(i+1, len(correlation_matrix.columns)):\n",
    "        corr_val = correlation_matrix.iloc[i, j]\n",
    "        if abs(corr_val) > 0.8:\n",
    "            print(f\"{correlation_matrix.columns[i]} vs {correlation_matrix.columns[j]}: {corr_val:.3f}\")"
   ]
  },
  {
   "cell_type": "code",
   "execution_count": null,
   "metadata": {},
   "outputs": [],
   "source": [
    "# Pairplot to visualize relationships between all features\n",
    "plt.figure(figsize=(12, 10))\n",
    "sns.pairplot(df, hue='species_name', diag_kind='hist', \n",
    "             palette=['#FF6B6B', '#4ECDC4', '#45B7D1'])\n",
    "plt.suptitle('Pairplot of Iris Features by Species', y=1.02)\n",
    "plt.show()"
   ]
  },
  {
   "cell_type": "code",
   "execution_count": null,
   "metadata": {},
   "outputs": [],
   "source": [
    "# Detailed scatter plots for most interesting relationships\n",
    "fig, axes = plt.subplots(1, 2, figsize=(15, 6))\n",
    "\n",
    "# Petal length vs Petal width\n",
    "for species in df['species_name'].unique():\n",
    "    species_data = df[df['species_name'] == species]\n",
    "    axes[0].scatter(species_data['petal length (cm)'], species_data['petal width (cm)'], \n",
    "                   label=species, alpha=0.7, s=60)\n",
    "axes[0].set_xlabel('Petal Length (cm)')\n",
    "axes[0].set_ylabel('Petal Width (cm)')\n",
    "axes[0].set_title('Petal Length vs Petal Width')\n",
    "axes[0].legend()\n",
    "axes[0].grid(True, alpha=0.3)\n",
    "\n",
    "# Sepal length vs Sepal width\n",
    "for species in df['species_name'].unique():\n",
    "    species_data = df[df['species_name'] == species]\n",
    "    axes[1].scatter(species_data['sepal length (cm)'], species_data['sepal width (cm)'], \n",
    "                   label=species, alpha=0.7, s=60)\n",
    "axes[1].set_xlabel('Sepal Length (cm)')\n",
    "axes[1].set_ylabel('Sepal Width (cm)')\n",
    "axes[1].set_title('Sepal Length vs Sepal Width')\n",
    "axes[1].legend()\n",
    "axes[1].grid(True, alpha=0.3)\n",
    "\n",
    "plt.tight_layout()\n",
    "plt.show()"
   ]
  },
  {
   "cell_type": "markdown",
   "metadata": {},
   "source": [
    "### 3.3 Advanced Visualizations"
   ]
  },
  {
   "cell_type": "code",
   "execution_count": null,
   "metadata": {},
   "outputs": [],
   "source": [
    "# Violin plots to show distribution shapes\n",
    "fig, axes = plt.subplots(2, 2, figsize=(15, 10))\n",
    "axes = axes.ravel()\n",
    "\n",
    "for i, col in enumerate(numerical_cols):\n",
    "    sns.violinplot(data=df, x='species_name', y=col, ax=axes[i])\n",
    "    axes[i].set_title(f'{col} Distribution by Species')\n",
    "    axes[i].set_xlabel('Species')\n",
    "    axes[i].tick_params(axis='x', rotation=45)\n",
    "\n",
    "plt.tight_layout()\n",
    "plt.show()"
   ]
  },
  {
   "cell_type": "code",
   "execution_count": null,
   "metadata": {},
   "outputs": [],
   "source": [
    "# Interactive 3D scatter plot using plotly\n",
    "fig = px.scatter_3d(df, x='sepal length (cm)', y='sepal width (cm)', z='petal length (cm)',\n",
    "                    color='species_name', size='petal width (cm)',\n",
    "                    title='3D Scatter Plot of Iris Features',\n",
    "                    labels={'species_name': 'Species'})\n",
    "fig.show()"
   ]
  },
  {
   "cell_type": "markdown",
   "metadata": {},
   "source": [
    "### 3.4 Statistical Analysis"
   ]
  },
  {
   "cell_type": "code",
   "execution_count": null,
   "metadata": {},
   "outputs": [],
   "source": [
    "# Calculate means and standard deviations by species\n",
    "species_stats = df.groupby('species_name')[numerical_cols].agg(['mean', 'std'])\n",
    "print(\"Means and Standard Deviations by Species:\")\n",
    "print(species_stats)\n",
    "\n",
    "# Calculate coefficient of variation (CV) to compare variability\n",
    "cv_stats = df.groupby('species_name')[numerical_cols].agg(lambda x: x.std() / x.mean() * 100)\n",
    "print(\"\\nCoefficient of Variation (%) by Species:\")\n",
    "print(cv_stats)"
   ]
  },
  {
   "cell_type": "code",
   "execution_count": null,
   "metadata": {},
   "outputs": [],
   "source": [
    "# Feature importance analysis - how well each feature separates species\n",
    "from sklearn.discriminant_analysis import LinearDiscriminantAnalysis\n",
    "from sklearn.preprocessing import StandardScaler\n",
    "\n",
    "# Standardize features\n",
    "scaler = StandardScaler()\n",
    "X_scaled = scaler.fit_transform(df[numerical_cols])\n",
    "y = df['species']\n",
    "\n",
    "# Fit LDA to understand feature importance\n",
    "lda = LinearDiscriminantAnalysis()\n",
    "lda.fit(X_scaled, y)\n",
    "\n",
    "# Get feature importance (coefficients)\n",
    "feature_importance = pd.DataFrame({\n",
    "    'Feature': numerical_cols,\n",
    "    'Importance': np.abs(lda.coef_[0])\n",
    "}).sort_values('Importance', ascending=False)\n",
    "\n",
    "print(\"Feature Importance for Species Classification:\")\n",
    "print(feature_importance)\n",
    "\n",
    "# Visualize feature importance\n",
    "plt.figure(figsize=(10, 6))\n",
    "plt.barh(feature_importance['Feature'], feature_importance['Importance'])\n",
    "plt.title('Feature Importance for Species Classification')\n",
    "plt.xlabel('Importance Score')\n",
    "plt.show()"
   ]
  },
  {
   "cell_type": "markdown",
   "metadata": {},
   "source": [
    "## 4. Key Insights"
   ]
  },
  {
   "cell_type": "markdown",
   "metadata": {},
   "source": [
    "### Key Findings:\n",
    "\n",
    "1. **Species Separability**: \n",
    "   - Setosa is clearly distinguishable from the other two species across all measurements\n",
    "   - Versicolor and Virginica show more overlap, especially in sepal measurements\n",
    "\n",
    "2. **Most Discriminative Features**:\n",
    "   - Petal length and petal width are the most important features for species classification\n",
    "   - Sepal width shows the least discriminative power\n",
    "\n",
    "3. **Feature Correlations**:\n",
    "   - Strong positive correlation between petal length and petal width (r ≈ 0.96)\n",
    "   - Moderate correlation between sepal length and petal length\n",
    "   - Sepal width shows weak correlation with other features\n",
    "\n",
    "4. **Species Characteristics**:\n",
    "   - **Setosa**: Smallest petals, wider sepals relative to length\n",
    "   - **Versicolor**: Medium-sized features across all measurements\n",
    "   - **Virginica**: Largest petals and longest sepals\n",
    "\n",
    "5. **Distribution Patterns**:\n",
    "   - All features show approximately normal distributions\n",
    "   - Petal measurements show clear species clustering\n",
    "   - Some outliers exist but they don't significantly affect the overall patterns"
   ]
  },
  {
   "cell_type": "markdown",
   "metadata": {},
   "source": [
    "## 5. Conclusions"
   ]
  },
  {
   "cell_type": "markdown",
   "metadata": {},
   "source": [
    "### Summary:\n",
    "- The Iris dataset demonstrates clear morphological differences between the three species\n",
    "- Petal measurements are significantly more informative than sepal measurements for species identification\n",
    "- The dataset is well-balanced with no missing values, making it ideal for machine learning applications\n",
    "\n",
    "### Recommendations:\n",
    "- For species classification, focus primarily on petal length and width measurements\n",
    "- Setosa can be easily identified using simple rules (e.g., petal length < 2 cm)\n",
    "- More sophisticated methods may be needed to distinguish between Versicolor and Virginica\n",
    "\n",
    "### Next Steps:\n",
    "- Apply machine learning classification algorithms to predict species\n",
    "- Investigate decision boundaries between Versicolor and Virginica\n",
    "- Explore dimensionality reduction techniques (PCA, LDA) for visualization\n",
    "- Compare different classification algorithms' performance on this dataset"
   ]
  }
 ],
 "metadata": {
  "kernelspec": {
   "display_name": "Python 3",
   "language": "python",
   "name": "python3"
  },
  "language_info": {
   "codemirror_mode": {
    "name": "ipython",
    "version": 3
   },
   "file_extension": ".py",
   "mimetype": "text/x-python",
   "name": "python",
   "nbconvert_exporter": "python",
   "pygments_lexer": "ipython3",
   "version": "3.8.5"
  }
 },
 "nbformat": 4,
 "nbformat_minor": 4
}